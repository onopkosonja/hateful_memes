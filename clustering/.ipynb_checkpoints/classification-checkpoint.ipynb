{
 "cells": [
  {
   "cell_type": "code",
   "execution_count": null,
   "metadata": {},
   "outputs": [],
   "source": [
    "from tqdm import tqdm\n",
    "import torch\n",
    "import torch.nn as nn\n",
    "import torch.nn.functional as F\n",
    "import numpy as np\n",
    "import matplotlib.pyplot as plt\n",
    "\n",
    "device = torch.device(\"cuda\" if torch.cuda.is_available() else \"cpu\")"
   ]
  },
  {
   "cell_type": "code",
   "execution_count": null,
   "metadata": {},
   "outputs": [],
   "source": [
    "from google.colab import drive\n",
    "drive.mount('/content/drive')"
   ]
  },
  {
   "cell_type": "markdown",
   "metadata": {},
   "source": [
    "# Classification"
   ]
  },
  {
   "cell_type": "code",
   "execution_count": null,
   "metadata": {},
   "outputs": [],
   "source": [
    "def calculate_loss(X, y, model):\n",
    "    pred = model(X)\n",
    "    return F.binary_cross_entropy(pred, y.unsqueeze(1)) \n",
    "\n",
    "def train(model, train_loader, val_loader, epochs=100):\n",
    "    optimizer = torch.optim.Adam(model.parameters())\n",
    "    train_losses = []\n",
    "    val_losses = []\n",
    "    model.to(device)\n",
    "    for i in tqdm(range(epochs)):\n",
    "        #Train\n",
    "        loss_mean = 0\n",
    "        elements = 0\n",
    "        for X, y in iter(train_loader):\n",
    "            X = X.to(device)\n",
    "            y = y.to(device)\n",
    "            loss = calculate_loss(X, y, model)\n",
    "            optimizer.zero_grad()\n",
    "            loss.backward()\n",
    "            optimizer.step()\n",
    "            loss_mean += loss.item() * len(X)\n",
    "            elements += len(X)\n",
    "        train_losses.append(loss_mean / elements)\n",
    "        #Validation\n",
    "        loss_mean = 0 \n",
    "        elements = 0\n",
    "        for X, y in iter(val_loader):\n",
    "            X = X.to(device)\n",
    "            y = y.to(device)\n",
    "            loss = calculate_loss(X, y, model)\n",
    "            loss_mean += loss.item() * len(X)\n",
    "            elements += len(X)\n",
    "        val_losses.append(loss_mean / elements)\n",
    "        #print(\"Epoch\", i, \"| Train loss\", train_losses[-1], \"| Validation loss\", val_losses[-1])\n",
    "    return train_losses, val_losses\n",
    "\n",
    "def plot_losses(train_l, val_l):\n",
    "    plt.figure(figsize=(12, 6))\n",
    "    plt.plot(range(len(train_l)), train_l, label=\"train\")\n",
    "    plt.plot(range(len(val_l)), val_l, label=\"validation\")\n",
    "    plt.xlabel(\"Epoch\")\n",
    "    plt.ylabel(\"Loss\")\n",
    "    plt.legend()\n",
    "    plt.tight_layout()\n",
    "    plt.show()"
   ]
  },
  {
   "cell_type": "code",
   "execution_count": null,
   "metadata": {},
   "outputs": [],
   "source": [
    "embedding_path = '/content/drive/My Drive/hateful_memes/embeddings/'\n",
    "labels_train = torch.Tensor(np.load(embedding_path + 'labels.npy'))\n",
    "labels_val = torch.Tensor(np.load(embedding_path + 'labels_val.npy'))"
   ]
  },
  {
   "cell_type": "code",
   "execution_count": null,
   "metadata": {},
   "outputs": [],
   "source": [
    "def get_classifier(model_name, n_hidden=256):\n",
    "    classifier = nn.Sequential(\n",
    "                  nn.Linear(512, n_hidden),\n",
    "                  nn.ReLU(),\n",
    "                  nn.Linear(n_hidden, 1),\n",
    "                  nn.Sigmoid())\n",
    "\n",
    "    path_train = embedding_path + model_name + '.npy'\n",
    "    path_val = embedding_path + model_name + '_val.npy'\n",
    "\n",
    "    emb_train = torch.Tensor(np.load(path_train).astype(np.float32))\n",
    "    emb_val = torch.Tensor(np.load(path_val).astype(np.float32))\n",
    "\n",
    "    dataset_train = TensorDataset(emb_train, labels_train)\n",
    "    dataset_val = TensorDataset(emb_val, labels_val)\n",
    "\n",
    "    train_loader = DataLoader(dataset_train, batch_size=128)\n",
    "    val_loader = DataLoader(dataset_val, batch_size=128)\n",
    "    return classifier, train_loader, val_loader"
   ]
  },
  {
   "cell_type": "markdown",
   "metadata": {},
   "source": [
    "#### BYOL with not pretrained resnet18 "
   ]
  },
  {
   "cell_type": "code",
   "execution_count": null,
   "metadata": {},
   "outputs": [],
   "source": [
    "classifier, train_loader, val_loader = get_classifier(model_name='resnet18_not_pretrained_epoch=139'\n",
    "train_l, val_l = train(classifier, train_loader, val_loader)\n",
    "plot_losses(train_l, val_l)"
   ]
  },
  {
   "cell_type": "markdown",
   "metadata": {},
   "source": [
    "#### BYOL with pretrained resnet18 "
   ]
  },
  {
   "cell_type": "code",
   "execution_count": null,
   "metadata": {},
   "outputs": [],
   "source": [
    "classifier, train_loader, val_loader = get_classifier(model_name='resnet18_pretrained_epoch=50')\n",
    "train_l, val_l = train(classifier, train_loader, val_loader)\n",
    "plot_losses(train_l, val_l)"
   ]
  },
  {
   "cell_type": "markdown",
   "metadata": {},
   "source": [
    "#### Resnet18 after avg pooling"
   ]
  },
  {
   "cell_type": "code",
   "execution_count": null,
   "metadata": {},
   "outputs": [],
   "source": [
    "classifier, train_loader, val_loader = get_classifier(model_name='resnet18')\n",
    "train_l, val_l = train(classifier, train_loader, val_loader)\n",
    "plot_losses(train_l, val_l)"
   ]
  },
  {
   "cell_type": "markdown",
   "metadata": {},
   "source": [
    "#### Resnet18 after softmax"
   ]
  },
  {
   "cell_type": "code",
   "execution_count": null,
   "metadata": {},
   "outputs": [],
   "source": [
    "classifier, train_loader, val_loader = get_classifier(model_name='softmax_resnet18')\n",
    "train_l, val_l = train(classifier, train_loader, val_loader)\n",
    "plot_losses(train_l, val_l)"
   ]
  }
 ],
 "metadata": {
  "kernelspec": {
   "display_name": "Python 3",
   "language": "python",
   "name": "python3"
  },
  "language_info": {
   "codemirror_mode": {
    "name": "ipython",
    "version": 3
   },
   "file_extension": ".py",
   "mimetype": "text/x-python",
   "name": "python",
   "nbconvert_exporter": "python",
   "pygments_lexer": "ipython3",
   "version": "3.7.3"
  }
 },
 "nbformat": 4,
 "nbformat_minor": 4
}
