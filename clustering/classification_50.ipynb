{
  "nbformat": 4,
  "nbformat_minor": 0,
  "metadata": {
    "accelerator": "GPU",
    "colab": {
      "name": "classification_50-2.ipynb",
      "provenance": [],
      "collapsed_sections": []
    },
    "kernelspec": {
      "display_name": "Python 3",
      "language": "python",
      "name": "python3"
    },
    "language_info": {
      "codemirror_mode": {
        "name": "ipython",
        "version": 3
      },
      "file_extension": ".py",
      "mimetype": "text/x-python",
      "name": "python",
      "nbconvert_exporter": "python",
      "pygments_lexer": "ipython3",
      "version": "3.7.3"
    }
  },
  "cells": [
    {
      "cell_type": "code",
      "metadata": {
        "colab_type": "code",
        "id": "fFU-r00UxPZk",
        "colab": {}
      },
      "source": [
        "from tqdm import tqdm\n",
        "from torch.utils.data import DataLoader, TensorDataset\n",
        "from sklearn.metrics import roc_auc_score\n",
        "import torch\n",
        "import torch.nn as nn\n",
        "import torch.nn.functional as F\n",
        "import numpy as np\n",
        "import matplotlib.pyplot as plt\n",
        "\n",
        "device = torch.device(\"cuda\" if torch.cuda.is_available() else \"cpu\")"
      ],
      "execution_count": 2,
      "outputs": []
    },
    {
      "cell_type": "code",
      "metadata": {
        "colab_type": "code",
        "id": "4A9O3b44xPZx",
        "colab": {
          "base_uri": "https://localhost:8080/",
          "height": 34
        },
        "outputId": "c00dbffc-ca23-4bdb-f289-78cf08837ed3"
      },
      "source": [
        "from google.colab import drive\n",
        "drive.mount('/content/drive')"
      ],
      "execution_count": 3,
      "outputs": [
        {
          "output_type": "stream",
          "text": [
            "Mounted at /content/drive\n"
          ],
          "name": "stdout"
        }
      ]
    },
    {
      "cell_type": "markdown",
      "metadata": {
        "colab_type": "text",
        "id": "vSVuWRdOxPZ4"
      },
      "source": [
        "# Classification"
      ]
    },
    {
      "cell_type": "code",
      "metadata": {
        "colab_type": "code",
        "id": "3J1MIkHVxPZ6",
        "colab": {}
      },
      "source": [
        "def calculate_loss(X, y, model):\n",
        "    pred = model(X)\n",
        "    return F.binary_cross_entropy(pred, y.unsqueeze(1)) \n",
        "\n",
        "def train(model, train_loader, val_loader, epochs=100):\n",
        "    optimizer = torch.optim.Adam(model.parameters(), lr=1e-5)\n",
        "    train_losses = []\n",
        "    val_losses = []\n",
        "    model.to(device)\n",
        "    for i in tqdm(range(epochs)):\n",
        "        #Train\n",
        "        loss_mean = 0\n",
        "        elements = 0\n",
        "        for X, y in iter(train_loader):\n",
        "            X = X.to(device)\n",
        "            y = y.to(device)\n",
        "            loss = calculate_loss(X, y, model)\n",
        "            optimizer.zero_grad()\n",
        "            loss.backward()\n",
        "            optimizer.step()\n",
        "            loss_mean += loss.item() * len(X)\n",
        "            elements += len(X)\n",
        "        train_losses.append(loss_mean / elements)\n",
        "        #Validation\n",
        "        loss_mean = 0 \n",
        "        elements = 0\n",
        "        for X, y in iter(val_loader):\n",
        "            X = X.to(device)\n",
        "            y = y.to(device)\n",
        "            loss = calculate_loss(X, y, model)\n",
        "            loss_mean += loss.item() * len(X)\n",
        "            elements += len(X)\n",
        "        val_losses.append(loss_mean / elements)\n",
        "        #print(\"Epoch\", i, \"| Train loss\", train_losses[-1], \"| Validation loss\", val_losses[-1])\n",
        "    return train_losses, val_losses\n",
        "\n",
        "def plot_losses(train_l, val_l):\n",
        "    plt.figure(figsize=(12, 6))\n",
        "    plt.plot(range(len(train_l)), train_l, label=\"train\")\n",
        "    plt.plot(range(len(val_l)), val_l, label=\"validation\")\n",
        "    plt.xlabel(\"Epoch\")\n",
        "    plt.ylabel(\"Loss\")\n",
        "    plt.legend()\n",
        "    plt.tight_layout()\n",
        "    plt.show()"
      ],
      "execution_count": 4,
      "outputs": []
    },
    {
      "cell_type": "code",
      "metadata": {
        "colab_type": "code",
        "id": "I6pQkaJnxPZ_",
        "colab": {}
      },
      "source": [
        "embedding_path = '/content/drive/My Drive/hateful_memes/embeddings/'\n",
        "labels_train = torch.Tensor(np.load(embedding_path + 'labels.npy'))\n",
        "labels_val = torch.Tensor(np.load(embedding_path + 'labels_val.npy'))"
      ],
      "execution_count": 5,
      "outputs": []
    },
    {
      "cell_type": "code",
      "metadata": {
        "colab_type": "code",
        "id": "9AesohMJxPaF",
        "colab": {}
      },
      "source": [
        "def get_classifier(model_name, n_hidden=256, n_input=2048):\n",
        "    classifier = nn.Sequential(\n",
        "                nn.Linear(n_input, n_hidden),\n",
        "                nn.BatchNorm1d(num_features=n_hidden), \n",
        "                nn.ReLU(),\n",
        "                nn.Linear(n_hidden, 1),\n",
        "                nn.Sigmoid())\n",
        "\n",
        "    path_train = embedding_path + model_name + '.npy'\n",
        "    path_val = embedding_path + model_name + '_val.npy'\n",
        "\n",
        "    emb_train = torch.Tensor(np.load(path_train).astype(np.float32))\n",
        "    emb_val = torch.Tensor(np.load(path_val).astype(np.float32))\n",
        "\n",
        "    dataset_train = TensorDataset(emb_train, labels_train)\n",
        "    dataset_val = TensorDataset(emb_val, labels_val)\n",
        "\n",
        "    train_loader = DataLoader(dataset_train, batch_size=128)\n",
        "    val_loader = DataLoader(dataset_val, batch_size=128)\n",
        "    return classifier, train_loader, val_loader"
      ],
      "execution_count": 6,
      "outputs": []
    },
    {
      "cell_type": "markdown",
      "metadata": {
        "colab_type": "text",
        "id": "vEHOKntjxPaK"
      },
      "source": [
        "#### BYOL with not pretrained resnet50\n"
      ]
    },
    {
      "cell_type": "code",
      "metadata": {
        "colab_type": "code",
        "id": "zDhVhrFbeqER",
        "colab": {
          "base_uri": "https://localhost:8080/",
          "height": 458
        },
        "outputId": "3aa2496b-422b-4482-93da-d74c17fa2a6d"
      },
      "source": [
        "classifier, train_loader, val_loader = get_classifier(model_name='resnet50_not_pretrained_epoch=830')\n",
        "train_l, val_l = train(classifier, train_loader, val_loader, 500)\n",
        "plot_losses(train_l, val_l)"
      ],
      "execution_count": 26,
      "outputs": [
        {
          "output_type": "stream",
          "text": [
            "100%|██████████| 500/500 [01:49<00:00,  4.55it/s]\n"
          ],
          "name": "stderr"
        },
        {
          "output_type": "display_data",
          "data": {
            "image/png": "[encoded data removed]",
            "text/plain": [
              "<Figure size 864x432 with 1 Axes>"
            ]
          },
          "metadata": {
            "tags": [],
            "needs_background": "light"
          }
        }
      ]
    },
    {
      "cell_type": "code",
      "metadata": {
        "colab_type": "code",
        "id": "NyP0QRGnbIkO",
        "colab": {}
      },
      "source": [
        "def get_score(classifier, val_loader):\n",
        "    prob_pred = []\n",
        "    y_true = []\n",
        "\n",
        "    true_positive = np.zeros(2)\n",
        "    true_negative = np.zeros(2)\n",
        "    false_positive = np.zeros(2)\n",
        "    false_negative = np.zeros(2)\n",
        "    accuracy = 0\n",
        "    ctn = 0\n",
        "    for X, y in iter(val_loader):\n",
        "      X = X.to(device)\n",
        "      y = y.to(device)\n",
        "      y = y.type(torch.uint8)\n",
        "      with torch.no_grad():\n",
        "          y_prob = classifier(X)\n",
        "      y_pred = (y_prob > 0.5).type(torch.uint8) \n",
        "      for i in range(2):\n",
        "        for pred, real in zip(y_pred, y):\n",
        "          if real == i:\n",
        "            if pred == real:\n",
        "              true_positive[i] += 1\n",
        "            else:\n",
        "              false_negative[i] += 1\n",
        "          else:\n",
        "            if pred == i:\n",
        "              false_positive[i] += 1\n",
        "            else:\n",
        "              true_negative[i] += 1\n",
        "\n",
        "      prob_pred.extend(y_prob.detach().cpu().numpy())\n",
        "      y_true.extend(y.detach().cpu().numpy())\n",
        "      accuracy += torch.sum(y_pred == y).item()\n",
        "      ctn += len(y)\n",
        "\n",
        "    print(\"Overall accuracy:\", accuracy / ctn)\n",
        "    y = np.load(embedding_path + 'labels_val.npy')\n",
        "    print('AUCROC:', roc_auc_score(y_true, prob_pred))\n",
        "    print(\"Precision\", true_positive / (true_positive + false_positive))\n",
        "    print(\"Recall\", true_positive / (true_positive + false_negative))\n",
        "    print(\"Mean Precision\", np.mean(true_positive / (true_positive + false_positive)))\n",
        "    print(\"Mean Recall\", np.mean(true_positive / (true_positive + false_negative)))\n",
        "    return prob_pred"
      ],
      "execution_count": 44,
      "outputs": []
    },
    {
      "cell_type": "code",
      "metadata": {
        "id": "NDGkjNgRDKXv",
        "colab_type": "code",
        "colab": {
          "base_uri": "https://localhost:8080/",
          "height": 119
        },
        "outputId": "c58517fc-2ede-4987-f27b-9f0944dc5bf0"
      },
      "source": [
        "pred = get_score(classifier, val_loader)"
      ],
      "execution_count": 38,
      "outputs": [
        {
          "output_type": "stream",
          "text": [
            "Overall accuracy: 63.696\n",
            "AUCROC: 0.517264\n",
            "Precision [0.52691218 0.56462585]\n",
            "Recall [0.744 0.332]\n",
            "Mean Precision 0.5457690158216261\n",
            "Mean Recall 0.538\n"
          ],
          "name": "stdout"
        }
      ]
    },
    {
      "cell_type": "markdown",
      "metadata": {
        "id": "1zVQZbksNuAb",
        "colab_type": "text"
      },
      "source": [
        "## resnet50"
      ]
    },
    {
      "cell_type": "code",
      "metadata": {
        "id": "zpk6rfIfNy_b",
        "colab_type": "code",
        "colab": {
          "base_uri": "https://localhost:8080/",
          "height": 458
        },
        "outputId": "8b301b51-e350-4e06-9244-b8fd7b86d481"
      },
      "source": [
        "classifier, train_loader, val_loader = get_classifier(model_name='resnet50')\n",
        "train_l, val_l = train(classifier, train_loader, val_loader, 500)\n",
        "plot_losses(train_l, val_l)"
      ],
      "execution_count": 46,
      "outputs": [
        {
          "output_type": "stream",
          "text": [
            "100%|██████████| 500/500 [01:42<00:00,  4.88it/s]\n"
          ],
          "name": "stderr"
        },
        {
          "output_type": "display_data",
          "data": {
            "image/png": "[encoded data removed]",
            "text/plain": [
              "<Figure size 864x432 with 1 Axes>"
            ]
          },
          "metadata": {
            "tags": [],
            "needs_background": "light"
          }
        }
      ]
    }
  ]
}