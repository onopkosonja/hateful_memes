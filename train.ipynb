{
 "cells": [
  {
   "cell_type": "code",
   "execution_count": null,
   "metadata": {},
   "outputs": [],
   "source": [
    "pip install kornia\n",
    "pip install torch==1.5.1+cu101  -f https://download.pytorch.org/whl/torch_stable.html\n",
    "pip install pytorch_lightning    "
   ]
  },
  {
   "cell_type": "code",
   "execution_count": 8,
   "metadata": {},
   "outputs": [],
   "source": [
    "import os\n",
    "import argparse\n",
    "import multiprocessing\n",
    "from pathlib import Path\n",
    "from PIL import Image\n",
    "\n",
    "from torchvision import models, transforms\n",
    "from torch.utils.data import DataLoader, Dataset\n",
    "\n",
    "from byol_pytorch import BYOL\n",
    "import pytorch_lightning as pl"
   ]
  },
  {
   "cell_type": "code",
   "execution_count": null,
   "metadata": {},
   "outputs": [],
   "source": [
    "resnet = models.resnet50(pretrained=True)\n",
    "BATCH_SIZE = 32\n",
    "EPOCHS     = 100\n",
    "LR         = 3e-4\n",
    "NUM_GPUS   = 1\n",
    "IMAGE_SIZE = 256\n",
    "IMAGE_EXTS = ['.png']\n",
    "NUM_WORKERS = multiprocessing.cpu_count()\n",
    "\n",
    "# pytorch lightning module\n",
    "\n",
    "class SelfSupervisedLearner(pl.LightningModule):\n",
    "    def __init__(self, net, **kwargs):\n",
    "        super().__init__()\n",
    "        self.learner = BYOL(net, **kwargs)\n",
    "\n",
    "    def forward(self, images):\n",
    "        return self.learner(images)\n",
    "\n",
    "    def training_step(self, images, _):\n",
    "        loss = self.forward(images)\n",
    "        return {'loss': loss}\n",
    "\n",
    "    def configure_optimizers(self):\n",
    "        return torch.optim.Adam(self.parameters(), lr=LR)\n",
    "\n",
    "    def on_before_zero_grad(self, _):\n",
    "        self.learner.update_moving_average()\n",
    "\n",
    "# images dataset\n",
    "\n",
    "def expand_greyscale(t):\n",
    "    return t.expand(3, -1, -1)\n",
    "\n",
    "class ImagesDataset(Dataset):\n",
    "    def __init__(self, folder, image_size):\n",
    "        super().__init__()\n",
    "        self.folder = folder\n",
    "        self.paths = []\n",
    "        print(folder)\n",
    "\n",
    "        for path in Path(f'{folder}').glob('**/*'):\n",
    "            _, ext = os.path.splitext(path)\n",
    "            if ext.lower() in IMAGE_EXTS:\n",
    "                self.paths.append(path)\n",
    "\n",
    "        print(f'{len(self.paths)} images found')\n",
    "\n",
    "        self.transform = transforms.Compose([\n",
    "            transforms.Resize(image_size),\n",
    "            transforms.CenterCrop(image_size),\n",
    "            transforms.ToTensor(),\n",
    "            transforms.Lambda(expand_greyscale)\n",
    "        ])\n",
    "\n",
    "    def __len__(self):\n",
    "        return len(self.paths)\n",
    "\n",
    "    def __getitem__(self, index):\n",
    "        path = self.paths[index]\n",
    "        img = Image.open(path)\n",
    "        img = img.convert('RGB')\n",
    "        return self.transform(img)"
   ]
  },
  {
   "cell_type": "code",
   "execution_count": null,
   "metadata": {},
   "outputs": [],
   "source": [
    "from google.colab import drive\n",
    "drive.mount('/content/drive')"
   ]
  },
  {
   "cell_type": "code",
   "execution_count": null,
   "metadata": {},
   "outputs": [],
   "source": [
    "ds = ImagesDataset('/content/drive/My Drive/hateful_memes_data/train/data', IMAGE_SIZE)\n",
    "train_loader = DataLoader(ds, batch_size=BATCH_SIZE, num_workers=NUM_WORKERS)\n",
    "\n",
    "model = SelfSupervisedLearner(\n",
    "    resnet,\n",
    "    image_size = IMAGE_SIZE,\n",
    "    hidden_layer = 'avgpool',\n",
    "    projection_size = 256,\n",
    "    projection_hidden_size = 4096,\n",
    "    moving_average_decay = 0.99\n",
    ")\n",
    "\n",
    "trainer = pl.Trainer(gpus=NUM_GPUS, max_epochs=EPOCHS)\n",
    "trainer.fit(model, train_loader)"
   ]
  }
 ],
 "metadata": {
  "kernelspec": {
   "display_name": "Python 3",
   "language": "python",
   "name": "python3"
  },
  "language_info": {
   "codemirror_mode": {
    "name": "ipython",
    "version": 3
   },
   "file_extension": ".py",
   "mimetype": "text/x-python",
   "name": "python",
   "nbconvert_exporter": "python",
   "pygments_lexer": "ipython3",
   "version": "3.7.3"
  }
 },
 "nbformat": 4,
 "nbformat_minor": 4
}
